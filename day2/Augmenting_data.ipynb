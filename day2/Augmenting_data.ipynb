{
  "cells": [
    {
      "cell_type": "markdown",
      "metadata": {
        "id": "view-in-github",
        "colab_type": "text"
      },
      "source": [
        "<a href=\"https://colab.research.google.com/github/fleshgordo/sensinglikeamultiplicity/blob/main/day2/Augmenting_data.ipynb\" target=\"_parent\"><img src=\"https://colab.research.google.com/assets/colab-badge.svg\" alt=\"Open In Colab\"/></a>"
      ]
    },
    {
      "cell_type": "markdown",
      "source": [
        "# Augmenting data via Google Earth Engine\n",
        "\n",
        "Following the initial study for the [blurred sites](https://en.m.wikipedia.org/wiki/List_of_satellite_map_images_with_missing_or_unclear_data) of Google Earth, this notebook expands on the topic of satellite images and remote sensing via Google Earth Engine. It introduces how to access Image layers from GEE, tweak their appearances to build webmaps, and run batch downloads for many locations at once to finally analyse relationship of similarity among the original sites via PCA and t-SNE. Python and the ee, geopandas, scikit-learn, PIL libraries will be used."
      ],
      "metadata": {
        "id": "GzEEuWEOkTTF"
      }
    },
    {
      "cell_type": "code",
      "execution_count": 50,
      "metadata": {
        "id": "Ef_N_29TS60e"
      },
      "outputs": [],
      "source": [
        "!pip install -q geopandas\n",
        "\n",
        "import ee\n",
        "import os\n",
        "import pandas as pd\n",
        "import geopandas as gpd\n",
        "import requests\n",
        "from tqdm import tqdm\n",
        "from PIL import Image, ImageFilter"
      ]
    },
    {
      "cell_type": "markdown",
      "source": [
        "In order to access GEE, we first need to authenticate.\n",
        "Follow the instructions to obtain a valid key, and paste it back in the prompt.\n",
        "\n",
        "Remember to first [sign up](https://earthengine.google.com/signup) to GEE to use the service."
      ],
      "metadata": {
        "id": "tIeabUrcRgre"
      }
    },
    {
      "cell_type": "code",
      "execution_count": null,
      "metadata": {
        "id": "qgcXmnLQS60h"
      },
      "outputs": [],
      "source": [
        "# Trigger the authentication flow.\n",
        "ee.Authenticate()\n",
        "\n",
        "# Initialize the library.\n",
        "ee.Initialize()"
      ]
    },
    {
      "cell_type": "markdown",
      "source": [
        "If the above step fails to run, make sure that the email you are providing matches the email that you used to sign up"
      ],
      "metadata": {
        "id": "QofJUx2YSdNH"
      }
    },
    {
      "cell_type": "markdown",
      "source": [
        "## Explore the database"
      ],
      "metadata": {
        "id": "3vEPTbs5PxDc"
      }
    },
    {
      "cell_type": "markdown",
      "source": [
        "Let's check the connection to GEE following the official [documentation](https://developers.google.com/earth-engine/guides/python_install-colab)."
      ],
      "metadata": {
        "id": "URDU6E_kUkl8"
      }
    },
    {
      "cell_type": "code",
      "source": [
        "# Print the elevation of Mount Everest.\n",
        "dem = ee.Image('USGS/SRTMGL1_003')\n",
        "xy = ee.Geometry.Point([86.9250, 27.9881])\n",
        "elev = dem.sample(xy, 30).first().get('elevation').getInfo()\n",
        "print('Mount Everest elevation (m):', elev)"
      ],
      "metadata": {
        "colab": {
          "base_uri": "https://localhost:8080/"
        },
        "id": "PJ9jFLe4P3d0",
        "outputId": "ac02c9f0-9200-4645-ce8e-4ee2fea4f667"
      },
      "execution_count": 52,
      "outputs": [
        {
          "output_type": "stream",
          "name": "stdout",
          "text": [
            "Mount Everest elevation (m): 8729\n"
          ]
        }
      ]
    },
    {
      "cell_type": "markdown",
      "source": [
        "As Google Earth Engine's primary scope is to support web-based visualizations, it is possible to explore GEE interactively via the Folium python library. \n",
        "*Folium makes it easy to visualize data that’s been manipulated in Python on an interactive leaflet map.*\n",
        "\n",
        "[Folium official documentation](https://python-visualization.github.io/folium/)"
      ],
      "metadata": {
        "id": "9pP-78G6WYdM"
      }
    },
    {
      "cell_type": "code",
      "source": [
        "import folium"
      ],
      "metadata": {
        "id": "Uw1N5pZHYfxR"
      },
      "execution_count": null,
      "outputs": []
    },
    {
      "cell_type": "markdown",
      "source": [
        "### Basemaps"
      ],
      "metadata": {
        "id": "5vtv4n-TZLns"
      }
    },
    {
      "cell_type": "code",
      "source": [
        "#Explore basemaps\n",
        "# https://leaflet-extras.github.io/leaflet-providers/preview/\n",
        "\n",
        "folium.Map(location=[46.519962,6.633597], \n",
        "    # tiles='stamentoner'\n",
        "    # tiles='stamenterrain'\n",
        "    # tiles='stamenwatercolor'\n",
        "    # tiles='cartoDBpositron'\n",
        "    tiles='cartoDBdark_matter'\n",
        ")"
      ],
      "metadata": {
        "colab": {
          "base_uri": "https://localhost:8080/",
          "height": 991
        },
        "id": "eHCIb5KyWwLi",
        "outputId": "6da55c8a-8288-48e2-8b81-115866a285f2"
      },
      "execution_count": 75,
      "outputs": [
        {
          "output_type": "execute_result",
          "data": {
            "text/plain": [
              "<folium.folium.Map at 0x7f8cee6d5280>"
            ],
            "text/html": [
              "<div style=\"width:100%;\"><div style=\"position:relative;width:100%;height:0;padding-bottom:60%;\"><span style=\"color:#565656\">Make this Notebook Trusted to load map: File -> Trust Notebook</span><iframe srcdoc=\"&lt;!DOCTYPE html&gt;\n",
              "&lt;html&gt;\n",
              "&lt;head&gt;\n",
              "    \n",
              "    &lt;meta http-equiv=&quot;content-type&quot; content=&quot;text/html; charset=UTF-8&quot; /&gt;\n",
              "    \n",
              "        &lt;script&gt;\n",
              "            L_NO_TOUCH = false;\n",
              "            L_DISABLE_3D = false;\n",
              "        &lt;/script&gt;\n",
              "    \n",
              "    &lt;style&gt;html, body {width: 100%;height: 100%;margin: 0;padding: 0;}&lt;/style&gt;\n",
              "    &lt;style&gt;#map {position:absolute;top:0;bottom:0;right:0;left:0;}&lt;/style&gt;\n",
              "    &lt;script src=&quot;https://cdn.jsdelivr.net/npm/leaflet@1.6.0/dist/leaflet.js&quot;&gt;&lt;/script&gt;\n",
              "    &lt;script src=&quot;https://code.jquery.com/jquery-1.12.4.min.js&quot;&gt;&lt;/script&gt;\n",
              "    &lt;script src=&quot;https://maxcdn.bootstrapcdn.com/bootstrap/3.2.0/js/bootstrap.min.js&quot;&gt;&lt;/script&gt;\n",
              "    &lt;script src=&quot;https://cdnjs.cloudflare.com/ajax/libs/Leaflet.awesome-markers/2.0.2/leaflet.awesome-markers.js&quot;&gt;&lt;/script&gt;\n",
              "    &lt;link rel=&quot;stylesheet&quot; href=&quot;https://cdn.jsdelivr.net/npm/leaflet@1.6.0/dist/leaflet.css&quot;/&gt;\n",
              "    &lt;link rel=&quot;stylesheet&quot; href=&quot;https://maxcdn.bootstrapcdn.com/bootstrap/3.2.0/css/bootstrap.min.css&quot;/&gt;\n",
              "    &lt;link rel=&quot;stylesheet&quot; href=&quot;https://maxcdn.bootstrapcdn.com/bootstrap/3.2.0/css/bootstrap-theme.min.css&quot;/&gt;\n",
              "    &lt;link rel=&quot;stylesheet&quot; href=&quot;https://maxcdn.bootstrapcdn.com/font-awesome/4.6.3/css/font-awesome.min.css&quot;/&gt;\n",
              "    &lt;link rel=&quot;stylesheet&quot; href=&quot;https://cdnjs.cloudflare.com/ajax/libs/Leaflet.awesome-markers/2.0.2/leaflet.awesome-markers.css&quot;/&gt;\n",
              "    &lt;link rel=&quot;stylesheet&quot; href=&quot;https://cdn.jsdelivr.net/gh/python-visualization/folium/folium/templates/leaflet.awesome.rotate.min.css&quot;/&gt;\n",
              "    \n",
              "            &lt;meta name=&quot;viewport&quot; content=&quot;width=device-width,\n",
              "                initial-scale=1.0, maximum-scale=1.0, user-scalable=no&quot; /&gt;\n",
              "            &lt;style&gt;\n",
              "                #map_b86890dbe3521619176549216c160e26 {\n",
              "                    position: relative;\n",
              "                    width: 100.0%;\n",
              "                    height: 100.0%;\n",
              "                    left: 0.0%;\n",
              "                    top: 0.0%;\n",
              "                }\n",
              "            &lt;/style&gt;\n",
              "        \n",
              "&lt;/head&gt;\n",
              "&lt;body&gt;\n",
              "    \n",
              "    \n",
              "            &lt;div class=&quot;folium-map&quot; id=&quot;map_b86890dbe3521619176549216c160e26&quot; &gt;&lt;/div&gt;\n",
              "        \n",
              "&lt;/body&gt;\n",
              "&lt;script&gt;\n",
              "    \n",
              "    \n",
              "            var map_b86890dbe3521619176549216c160e26 = L.map(\n",
              "                &quot;map_b86890dbe3521619176549216c160e26&quot;,\n",
              "                {\n",
              "                    center: [46.519962, 6.633597],\n",
              "                    crs: L.CRS.EPSG3857,\n",
              "                    zoom: 10,\n",
              "                    zoomControl: true,\n",
              "                    preferCanvas: false,\n",
              "                }\n",
              "            );\n",
              "\n",
              "            \n",
              "\n",
              "        \n",
              "    \n",
              "            var tile_layer_fc701c9bee5782fee1fe725a2093af0a = L.tileLayer(\n",
              "                &quot;https://cartodb-basemaps-{s}.global.ssl.fastly.net/dark_all/{z}/{x}/{y}.png&quot;,\n",
              "                {&quot;attribution&quot;: &quot;\\u0026copy; \\u003ca href=\\&quot;http://www.openstreetmap.org/copyright\\&quot;\\u003eOpenStreetMap\\u003c/a\\u003e contributors \\u0026copy; \\u003ca href=\\&quot;http://cartodb.com/attributions\\&quot;\\u003eCartoDB\\u003c/a\\u003e, CartoDB \\u003ca href =\\&quot;http://cartodb.com/attributions\\&quot;\\u003eattributions\\u003c/a\\u003e&quot;, &quot;detectRetina&quot;: false, &quot;maxNativeZoom&quot;: 18, &quot;maxZoom&quot;: 18, &quot;minZoom&quot;: 0, &quot;noWrap&quot;: false, &quot;opacity&quot;: 1, &quot;subdomains&quot;: &quot;abc&quot;, &quot;tms&quot;: false}\n",
              "            ).addTo(map_b86890dbe3521619176549216c160e26);\n",
              "        \n",
              "&lt;/script&gt;\n",
              "&lt;/html&gt;\" style=\"position:absolute;width:100%;height:100%;left:0;top:0;border:none !important;\" allowfullscreen webkitallowfullscreen mozallowfullscreen></iframe></div></div>"
            ]
          },
          "metadata": {},
          "execution_count": 75
        }
      ]
    },
    {
      "cell_type": "markdown",
      "source": [
        "### GEE tiles\n",
        "In order to import Google Earth Engine data on our Folium web map, we define a function to fetch tiles from GEE and we overlay it onto the Map"
      ],
      "metadata": {
        "id": "dC7fkLnoUwik"
      }
    },
    {
      "cell_type": "code",
      "source": [
        "def add_ee_layer(self, image, vis_params, name):\n",
        "  map_id_dict = image.getMapId(vis_params)\n",
        "  folium.raster_layers.TileLayer(\n",
        "    tiles = map_id_dict['tile_fetcher'].url_format,\n",
        "    attr = 'Map Data &copy; <a href=\"https://earthengine.google.com/\">Google Earth Engine</a>',\n",
        "    name = name,\n",
        "    overlay = True,\n",
        "    control = True\n",
        "  ).add_to(self)\n",
        "\n",
        "# Add EE drawing method to folium\n",
        "folium.Map.add_ee_layer = add_ee_layer"
      ],
      "metadata": {
        "id": "1M9ivdFzZZ2N"
      },
      "execution_count": 90,
      "outputs": []
    },
    {
      "cell_type": "code",
      "source": [
        "# Create a basemap\n",
        "ee_map = folium.Map(location=[46.519962,6.633597], tiles='cartoDBdark_matter')\n",
        "\n",
        "# Set visualization parameters\n",
        "layer = ee.Image('USGS/SRTMGL1_003').select(\"elevation\")\n",
        "\n",
        "# Filter the values\n",
        "layer = layer.updateMask(layer.gt(250))\n",
        "\n",
        "# Apply style\n",
        "vis_params = {\n",
        "  'min': 0,\n",
        "  'max': 2000,\n",
        "  'palette': ['006633', 'E5FFCC', '662A00', 'D8D8D8', 'F5F5F5']}\n",
        "\n",
        "# Add the layer to the map object\n",
        "ee_map.add_ee_layer(layer, vis_params, 'DEM')\n",
        "\n",
        "# Add the layer control panel and display the map\n",
        "ee_map.add_child(folium.LayerControl())\n",
        "display(ee_map)"
      ],
      "metadata": {
        "colab": {
          "base_uri": "https://localhost:8080/",
          "height": 991
        },
        "id": "kQPP3Rz4WIuv",
        "outputId": "662c96fb-7665-401e-a1fb-d6ae7ad5373e"
      },
      "execution_count": 120,
      "outputs": [
        {
          "output_type": "display_data",
          "data": {
            "text/plain": [
              "<folium.folium.Map at 0x7f8cee556310>"
            ],
            "text/html": [
              "<div style=\"width:100%;\"><div style=\"position:relative;width:100%;height:0;padding-bottom:60%;\"><span style=\"color:#565656\">Make this Notebook Trusted to load map: File -> Trust Notebook</span><iframe srcdoc=\"&lt;!DOCTYPE html&gt;\n",
              "&lt;html&gt;\n",
              "&lt;head&gt;\n",
              "    \n",
              "    &lt;meta http-equiv=&quot;content-type&quot; content=&quot;text/html; charset=UTF-8&quot; /&gt;\n",
              "    \n",
              "        &lt;script&gt;\n",
              "            L_NO_TOUCH = false;\n",
              "            L_DISABLE_3D = false;\n",
              "        &lt;/script&gt;\n",
              "    \n",
              "    &lt;style&gt;html, body {width: 100%;height: 100%;margin: 0;padding: 0;}&lt;/style&gt;\n",
              "    &lt;style&gt;#map {position:absolute;top:0;bottom:0;right:0;left:0;}&lt;/style&gt;\n",
              "    &lt;script src=&quot;https://cdn.jsdelivr.net/npm/leaflet@1.6.0/dist/leaflet.js&quot;&gt;&lt;/script&gt;\n",
              "    &lt;script src=&quot;https://code.jquery.com/jquery-1.12.4.min.js&quot;&gt;&lt;/script&gt;\n",
              "    &lt;script src=&quot;https://maxcdn.bootstrapcdn.com/bootstrap/3.2.0/js/bootstrap.min.js&quot;&gt;&lt;/script&gt;\n",
              "    &lt;script src=&quot;https://cdnjs.cloudflare.com/ajax/libs/Leaflet.awesome-markers/2.0.2/leaflet.awesome-markers.js&quot;&gt;&lt;/script&gt;\n",
              "    &lt;link rel=&quot;stylesheet&quot; href=&quot;https://cdn.jsdelivr.net/npm/leaflet@1.6.0/dist/leaflet.css&quot;/&gt;\n",
              "    &lt;link rel=&quot;stylesheet&quot; href=&quot;https://maxcdn.bootstrapcdn.com/bootstrap/3.2.0/css/bootstrap.min.css&quot;/&gt;\n",
              "    &lt;link rel=&quot;stylesheet&quot; href=&quot;https://maxcdn.bootstrapcdn.com/bootstrap/3.2.0/css/bootstrap-theme.min.css&quot;/&gt;\n",
              "    &lt;link rel=&quot;stylesheet&quot; href=&quot;https://maxcdn.bootstrapcdn.com/font-awesome/4.6.3/css/font-awesome.min.css&quot;/&gt;\n",
              "    &lt;link rel=&quot;stylesheet&quot; href=&quot;https://cdnjs.cloudflare.com/ajax/libs/Leaflet.awesome-markers/2.0.2/leaflet.awesome-markers.css&quot;/&gt;\n",
              "    &lt;link rel=&quot;stylesheet&quot; href=&quot;https://cdn.jsdelivr.net/gh/python-visualization/folium/folium/templates/leaflet.awesome.rotate.min.css&quot;/&gt;\n",
              "    \n",
              "            &lt;meta name=&quot;viewport&quot; content=&quot;width=device-width,\n",
              "                initial-scale=1.0, maximum-scale=1.0, user-scalable=no&quot; /&gt;\n",
              "            &lt;style&gt;\n",
              "                #map_a5fa56630d4f039d51d8d819870fa3ca {\n",
              "                    position: relative;\n",
              "                    width: 100.0%;\n",
              "                    height: 100.0%;\n",
              "                    left: 0.0%;\n",
              "                    top: 0.0%;\n",
              "                }\n",
              "            &lt;/style&gt;\n",
              "        \n",
              "&lt;/head&gt;\n",
              "&lt;body&gt;\n",
              "    \n",
              "    \n",
              "            &lt;div class=&quot;folium-map&quot; id=&quot;map_a5fa56630d4f039d51d8d819870fa3ca&quot; &gt;&lt;/div&gt;\n",
              "        \n",
              "&lt;/body&gt;\n",
              "&lt;script&gt;\n",
              "    \n",
              "    \n",
              "            var map_a5fa56630d4f039d51d8d819870fa3ca = L.map(\n",
              "                &quot;map_a5fa56630d4f039d51d8d819870fa3ca&quot;,\n",
              "                {\n",
              "                    center: [46.519962, 6.633597],\n",
              "                    crs: L.CRS.EPSG3857,\n",
              "                    zoom: 10,\n",
              "                    zoomControl: true,\n",
              "                    preferCanvas: false,\n",
              "                }\n",
              "            );\n",
              "\n",
              "            \n",
              "\n",
              "        \n",
              "    \n",
              "            var tile_layer_339eeceb82b82d200303b726f61d66cd = L.tileLayer(\n",
              "                &quot;https://cartodb-basemaps-{s}.global.ssl.fastly.net/dark_all/{z}/{x}/{y}.png&quot;,\n",
              "                {&quot;attribution&quot;: &quot;\\u0026copy; \\u003ca href=\\&quot;http://www.openstreetmap.org/copyright\\&quot;\\u003eOpenStreetMap\\u003c/a\\u003e contributors \\u0026copy; \\u003ca href=\\&quot;http://cartodb.com/attributions\\&quot;\\u003eCartoDB\\u003c/a\\u003e, CartoDB \\u003ca href =\\&quot;http://cartodb.com/attributions\\&quot;\\u003eattributions\\u003c/a\\u003e&quot;, &quot;detectRetina&quot;: false, &quot;maxNativeZoom&quot;: 18, &quot;maxZoom&quot;: 18, &quot;minZoom&quot;: 0, &quot;noWrap&quot;: false, &quot;opacity&quot;: 1, &quot;subdomains&quot;: &quot;abc&quot;, &quot;tms&quot;: false}\n",
              "            ).addTo(map_a5fa56630d4f039d51d8d819870fa3ca);\n",
              "        \n",
              "    \n",
              "            var tile_layer_1e0f17fe47c1dd766378e66d8ed71135 = L.tileLayer(\n",
              "                &quot;https://earthengine.googleapis.com/v1alpha/projects/earthengine-legacy/maps/cd23a8f07899e797e43aa629d543b1dd-fe56abadf5d26af84334367ca8458f8c/tiles/{z}/{x}/{y}&quot;,\n",
              "                {&quot;attribution&quot;: &quot;Map Data \\u0026copy; \\u003ca href=\\&quot;https://earthengine.google.com/\\&quot;\\u003eGoogle Earth Engine\\u003c/a\\u003e&quot;, &quot;detectRetina&quot;: false, &quot;maxNativeZoom&quot;: 18, &quot;maxZoom&quot;: 18, &quot;minZoom&quot;: 0, &quot;noWrap&quot;: false, &quot;opacity&quot;: 1, &quot;subdomains&quot;: &quot;abc&quot;, &quot;tms&quot;: false}\n",
              "            ).addTo(map_a5fa56630d4f039d51d8d819870fa3ca);\n",
              "        \n",
              "    \n",
              "            var layer_control_ceeb5609467ded98b07061e6ebd3c4cb = {\n",
              "                base_layers : {\n",
              "                    &quot;cartodbdark_matter&quot; : tile_layer_339eeceb82b82d200303b726f61d66cd,\n",
              "                },\n",
              "                overlays :  {\n",
              "                    &quot;DEM&quot; : tile_layer_1e0f17fe47c1dd766378e66d8ed71135,\n",
              "                },\n",
              "            };\n",
              "            L.control.layers(\n",
              "                layer_control_ceeb5609467ded98b07061e6ebd3c4cb.base_layers,\n",
              "                layer_control_ceeb5609467ded98b07061e6ebd3c4cb.overlays,\n",
              "                {&quot;autoZIndex&quot;: true, &quot;collapsed&quot;: true, &quot;position&quot;: &quot;topright&quot;}\n",
              "            ).addTo(map_a5fa56630d4f039d51d8d819870fa3ca);\n",
              "        \n",
              "&lt;/script&gt;\n",
              "&lt;/html&gt;\" style=\"position:absolute;width:100%;height:100%;left:0;top:0;border:none !important;\" allowfullscreen webkitallowfullscreen mozallowfullscreen></iframe></div></div>"
            ]
          },
          "metadata": {}
        }
      ]
    },
    {
      "cell_type": "markdown",
      "source": [
        "Change the layer and the bands instructions to load a different image. Make sure to apply a min & max pair that is meaningful to the data that is being shown"
      ],
      "metadata": {
        "id": "yFiaKGUqmEdX"
      }
    },
    {
      "cell_type": "code",
      "source": [
        "# Create a basemap\n",
        "ee_map = folium.Map(location=[46.519962,6.633597], tiles='cartoDBpositron')\n",
        "\n",
        "# Set visualization parameters\n",
        "layer = ee.Image('UMD/hansen/global_forest_change_2021_v1_9').select(\"treecover2000\")\n",
        "\n",
        "# Filter the values\n",
        "layer = layer.updateMask(layer.gt(1))\n",
        "\n",
        "vis_params = {\n",
        "  'min': 0,\n",
        "  'max': 100,\n",
        "  'palette': ['white','salmon','green']}\n",
        "\n",
        "# Add the layer to the map object\n",
        "ee_map.add_ee_layer(layer, vis_params, 'layer')\n",
        "\n",
        "# Add the layer control panel and display the map\n",
        "ee_map.add_child(folium.LayerControl())\n",
        "display(ee_map)"
      ],
      "metadata": {
        "colab": {
          "base_uri": "https://localhost:8080/",
          "height": 991
        },
        "id": "XAStbqjQl7Bz",
        "outputId": "a469657f-e4c8-4240-9a62-3dd94a8f250f"
      },
      "execution_count": 118,
      "outputs": [
        {
          "output_type": "display_data",
          "data": {
            "text/plain": [
              "<folium.folium.Map at 0x7f8cee54fbb0>"
            ],
            "text/html": [
              "<div style=\"width:100%;\"><div style=\"position:relative;width:100%;height:0;padding-bottom:60%;\"><span style=\"color:#565656\">Make this Notebook Trusted to load map: File -> Trust Notebook</span><iframe srcdoc=\"&lt;!DOCTYPE html&gt;\n",
              "&lt;html&gt;\n",
              "&lt;head&gt;\n",
              "    \n",
              "    &lt;meta http-equiv=&quot;content-type&quot; content=&quot;text/html; charset=UTF-8&quot; /&gt;\n",
              "    \n",
              "        &lt;script&gt;\n",
              "            L_NO_TOUCH = false;\n",
              "            L_DISABLE_3D = false;\n",
              "        &lt;/script&gt;\n",
              "    \n",
              "    &lt;style&gt;html, body {width: 100%;height: 100%;margin: 0;padding: 0;}&lt;/style&gt;\n",
              "    &lt;style&gt;#map {position:absolute;top:0;bottom:0;right:0;left:0;}&lt;/style&gt;\n",
              "    &lt;script src=&quot;https://cdn.jsdelivr.net/npm/leaflet@1.6.0/dist/leaflet.js&quot;&gt;&lt;/script&gt;\n",
              "    &lt;script src=&quot;https://code.jquery.com/jquery-1.12.4.min.js&quot;&gt;&lt;/script&gt;\n",
              "    &lt;script src=&quot;https://maxcdn.bootstrapcdn.com/bootstrap/3.2.0/js/bootstrap.min.js&quot;&gt;&lt;/script&gt;\n",
              "    &lt;script src=&quot;https://cdnjs.cloudflare.com/ajax/libs/Leaflet.awesome-markers/2.0.2/leaflet.awesome-markers.js&quot;&gt;&lt;/script&gt;\n",
              "    &lt;link rel=&quot;stylesheet&quot; href=&quot;https://cdn.jsdelivr.net/npm/leaflet@1.6.0/dist/leaflet.css&quot;/&gt;\n",
              "    &lt;link rel=&quot;stylesheet&quot; href=&quot;https://maxcdn.bootstrapcdn.com/bootstrap/3.2.0/css/bootstrap.min.css&quot;/&gt;\n",
              "    &lt;link rel=&quot;stylesheet&quot; href=&quot;https://maxcdn.bootstrapcdn.com/bootstrap/3.2.0/css/bootstrap-theme.min.css&quot;/&gt;\n",
              "    &lt;link rel=&quot;stylesheet&quot; href=&quot;https://maxcdn.bootstrapcdn.com/font-awesome/4.6.3/css/font-awesome.min.css&quot;/&gt;\n",
              "    &lt;link rel=&quot;stylesheet&quot; href=&quot;https://cdnjs.cloudflare.com/ajax/libs/Leaflet.awesome-markers/2.0.2/leaflet.awesome-markers.css&quot;/&gt;\n",
              "    &lt;link rel=&quot;stylesheet&quot; href=&quot;https://cdn.jsdelivr.net/gh/python-visualization/folium/folium/templates/leaflet.awesome.rotate.min.css&quot;/&gt;\n",
              "    \n",
              "            &lt;meta name=&quot;viewport&quot; content=&quot;width=device-width,\n",
              "                initial-scale=1.0, maximum-scale=1.0, user-scalable=no&quot; /&gt;\n",
              "            &lt;style&gt;\n",
              "                #map_899c598c963cbdb56da0781fe6101cd9 {\n",
              "                    position: relative;\n",
              "                    width: 100.0%;\n",
              "                    height: 100.0%;\n",
              "                    left: 0.0%;\n",
              "                    top: 0.0%;\n",
              "                }\n",
              "            &lt;/style&gt;\n",
              "        \n",
              "&lt;/head&gt;\n",
              "&lt;body&gt;\n",
              "    \n",
              "    \n",
              "            &lt;div class=&quot;folium-map&quot; id=&quot;map_899c598c963cbdb56da0781fe6101cd9&quot; &gt;&lt;/div&gt;\n",
              "        \n",
              "&lt;/body&gt;\n",
              "&lt;script&gt;\n",
              "    \n",
              "    \n",
              "            var map_899c598c963cbdb56da0781fe6101cd9 = L.map(\n",
              "                &quot;map_899c598c963cbdb56da0781fe6101cd9&quot;,\n",
              "                {\n",
              "                    center: [46.519962, 6.633597],\n",
              "                    crs: L.CRS.EPSG3857,\n",
              "                    zoom: 10,\n",
              "                    zoomControl: true,\n",
              "                    preferCanvas: false,\n",
              "                }\n",
              "            );\n",
              "\n",
              "            \n",
              "\n",
              "        \n",
              "    \n",
              "            var tile_layer_a39276a0e75a990a8ff2686e4261357a = L.tileLayer(\n",
              "                &quot;https://cartodb-basemaps-{s}.global.ssl.fastly.net/light_all/{z}/{x}/{y}.png&quot;,\n",
              "                {&quot;attribution&quot;: &quot;\\u0026copy; \\u003ca href=\\&quot;http://www.openstreetmap.org/copyright\\&quot;\\u003eOpenStreetMap\\u003c/a\\u003e contributors \\u0026copy; \\u003ca href=\\&quot;http://cartodb.com/attributions\\&quot;\\u003eCartoDB\\u003c/a\\u003e, CartoDB \\u003ca href =\\&quot;http://cartodb.com/attributions\\&quot;\\u003eattributions\\u003c/a\\u003e&quot;, &quot;detectRetina&quot;: false, &quot;maxNativeZoom&quot;: 18, &quot;maxZoom&quot;: 18, &quot;minZoom&quot;: 0, &quot;noWrap&quot;: false, &quot;opacity&quot;: 1, &quot;subdomains&quot;: &quot;abc&quot;, &quot;tms&quot;: false}\n",
              "            ).addTo(map_899c598c963cbdb56da0781fe6101cd9);\n",
              "        \n",
              "    \n",
              "            var tile_layer_72cb6e395415aff42a6213ccccbaf692 = L.tileLayer(\n",
              "                &quot;https://earthengine.googleapis.com/v1alpha/projects/earthengine-legacy/maps/8034193133065474d146de30ed8fd0a5-a2e57b644400b6dc0e3e87587665b393/tiles/{z}/{x}/{y}&quot;,\n",
              "                {&quot;attribution&quot;: &quot;Map Data \\u0026copy; \\u003ca href=\\&quot;https://earthengine.google.com/\\&quot;\\u003eGoogle Earth Engine\\u003c/a\\u003e&quot;, &quot;detectRetina&quot;: false, &quot;maxNativeZoom&quot;: 18, &quot;maxZoom&quot;: 18, &quot;minZoom&quot;: 0, &quot;noWrap&quot;: false, &quot;opacity&quot;: 1, &quot;subdomains&quot;: &quot;abc&quot;, &quot;tms&quot;: false}\n",
              "            ).addTo(map_899c598c963cbdb56da0781fe6101cd9);\n",
              "        \n",
              "    \n",
              "            var layer_control_0586cbc0efd7a4bd2b18b6385163b464 = {\n",
              "                base_layers : {\n",
              "                    &quot;cartodbpositron&quot; : tile_layer_a39276a0e75a990a8ff2686e4261357a,\n",
              "                },\n",
              "                overlays :  {\n",
              "                    &quot;layer&quot; : tile_layer_72cb6e395415aff42a6213ccccbaf692,\n",
              "                },\n",
              "            };\n",
              "            L.control.layers(\n",
              "                layer_control_0586cbc0efd7a4bd2b18b6385163b464.base_layers,\n",
              "                layer_control_0586cbc0efd7a4bd2b18b6385163b464.overlays,\n",
              "                {&quot;autoZIndex&quot;: true, &quot;collapsed&quot;: true, &quot;position&quot;: &quot;topright&quot;}\n",
              "            ).addTo(map_899c598c963cbdb56da0781fe6101cd9);\n",
              "        \n",
              "&lt;/script&gt;\n",
              "&lt;/html&gt;\" style=\"position:absolute;width:100%;height:100%;left:0;top:0;border:none !important;\" allowfullscreen webkitallowfullscreen mozallowfullscreen></iframe></div></div>"
            ]
          },
          "metadata": {}
        }
      ]
    },
    {
      "cell_type": "markdown",
      "source": [
        "Masks can also come from other layers or bands"
      ],
      "metadata": {
        "id": "-KLt-fyul_so"
      }
    },
    {
      "cell_type": "code",
      "source": [
        "# Create a basemap\n",
        "ee_map = folium.Map(location=[46.519962,6.633597], tiles='cartoDBpositron')\n",
        "\n",
        "# Set visualization parameters\n",
        "layer = ee.Image('UMD/hansen/global_forest_change_2021_v1_9').select(\"treecover2000\")\n",
        "mask = ee.Image('UMD/hansen/global_forest_change_2021_v1_9').select(\"loss\")\n",
        "\n",
        "# Filter the values\n",
        "layer = layer.updateMask(layer.gt(1)).updateMask(mask.gt(0))\n",
        "\n",
        "vis_params = {\n",
        "  'min': 0,\n",
        "  'max': 100,\n",
        "  'palette': ['white','salmon','red']}\n",
        "\n",
        "# Add the layer to the map object\n",
        "ee_map.add_ee_layer(layer, vis_params, 'layer')\n",
        "\n",
        "# Add the layer control panel and display the map\n",
        "ee_map.add_child(folium.LayerControl())\n",
        "display(ee_map)"
      ],
      "metadata": {
        "colab": {
          "base_uri": "https://localhost:8080/",
          "height": 991
        },
        "id": "Duwto4XOkPH8",
        "outputId": "0c40fc80-29a8-4d83-ab5a-2a4a03e6a01a"
      },
      "execution_count": 116,
      "outputs": [
        {
          "output_type": "display_data",
          "data": {
            "text/plain": [
              "<folium.folium.Map at 0x7f8cee52f5b0>"
            ],
            "text/html": [
              "<div style=\"width:100%;\"><div style=\"position:relative;width:100%;height:0;padding-bottom:60%;\"><span style=\"color:#565656\">Make this Notebook Trusted to load map: File -> Trust Notebook</span><iframe srcdoc=\"&lt;!DOCTYPE html&gt;\n",
              "&lt;html&gt;\n",
              "&lt;head&gt;\n",
              "    \n",
              "    &lt;meta http-equiv=&quot;content-type&quot; content=&quot;text/html; charset=UTF-8&quot; /&gt;\n",
              "    \n",
              "        &lt;script&gt;\n",
              "            L_NO_TOUCH = false;\n",
              "            L_DISABLE_3D = false;\n",
              "        &lt;/script&gt;\n",
              "    \n",
              "    &lt;style&gt;html, body {width: 100%;height: 100%;margin: 0;padding: 0;}&lt;/style&gt;\n",
              "    &lt;style&gt;#map {position:absolute;top:0;bottom:0;right:0;left:0;}&lt;/style&gt;\n",
              "    &lt;script src=&quot;https://cdn.jsdelivr.net/npm/leaflet@1.6.0/dist/leaflet.js&quot;&gt;&lt;/script&gt;\n",
              "    &lt;script src=&quot;https://code.jquery.com/jquery-1.12.4.min.js&quot;&gt;&lt;/script&gt;\n",
              "    &lt;script src=&quot;https://maxcdn.bootstrapcdn.com/bootstrap/3.2.0/js/bootstrap.min.js&quot;&gt;&lt;/script&gt;\n",
              "    &lt;script src=&quot;https://cdnjs.cloudflare.com/ajax/libs/Leaflet.awesome-markers/2.0.2/leaflet.awesome-markers.js&quot;&gt;&lt;/script&gt;\n",
              "    &lt;link rel=&quot;stylesheet&quot; href=&quot;https://cdn.jsdelivr.net/npm/leaflet@1.6.0/dist/leaflet.css&quot;/&gt;\n",
              "    &lt;link rel=&quot;stylesheet&quot; href=&quot;https://maxcdn.bootstrapcdn.com/bootstrap/3.2.0/css/bootstrap.min.css&quot;/&gt;\n",
              "    &lt;link rel=&quot;stylesheet&quot; href=&quot;https://maxcdn.bootstrapcdn.com/bootstrap/3.2.0/css/bootstrap-theme.min.css&quot;/&gt;\n",
              "    &lt;link rel=&quot;stylesheet&quot; href=&quot;https://maxcdn.bootstrapcdn.com/font-awesome/4.6.3/css/font-awesome.min.css&quot;/&gt;\n",
              "    &lt;link rel=&quot;stylesheet&quot; href=&quot;https://cdnjs.cloudflare.com/ajax/libs/Leaflet.awesome-markers/2.0.2/leaflet.awesome-markers.css&quot;/&gt;\n",
              "    &lt;link rel=&quot;stylesheet&quot; href=&quot;https://cdn.jsdelivr.net/gh/python-visualization/folium/folium/templates/leaflet.awesome.rotate.min.css&quot;/&gt;\n",
              "    \n",
              "            &lt;meta name=&quot;viewport&quot; content=&quot;width=device-width,\n",
              "                initial-scale=1.0, maximum-scale=1.0, user-scalable=no&quot; /&gt;\n",
              "            &lt;style&gt;\n",
              "                #map_816493cf64da605fa6c9b168fd6fa332 {\n",
              "                    position: relative;\n",
              "                    width: 100.0%;\n",
              "                    height: 100.0%;\n",
              "                    left: 0.0%;\n",
              "                    top: 0.0%;\n",
              "                }\n",
              "            &lt;/style&gt;\n",
              "        \n",
              "&lt;/head&gt;\n",
              "&lt;body&gt;\n",
              "    \n",
              "    \n",
              "            &lt;div class=&quot;folium-map&quot; id=&quot;map_816493cf64da605fa6c9b168fd6fa332&quot; &gt;&lt;/div&gt;\n",
              "        \n",
              "&lt;/body&gt;\n",
              "&lt;script&gt;\n",
              "    \n",
              "    \n",
              "            var map_816493cf64da605fa6c9b168fd6fa332 = L.map(\n",
              "                &quot;map_816493cf64da605fa6c9b168fd6fa332&quot;,\n",
              "                {\n",
              "                    center: [46.519962, 6.633597],\n",
              "                    crs: L.CRS.EPSG3857,\n",
              "                    zoom: 10,\n",
              "                    zoomControl: true,\n",
              "                    preferCanvas: false,\n",
              "                }\n",
              "            );\n",
              "\n",
              "            \n",
              "\n",
              "        \n",
              "    \n",
              "            var tile_layer_d89be86be93b07b7c1b2e6c9be198433 = L.tileLayer(\n",
              "                &quot;https://cartodb-basemaps-{s}.global.ssl.fastly.net/light_all/{z}/{x}/{y}.png&quot;,\n",
              "                {&quot;attribution&quot;: &quot;\\u0026copy; \\u003ca href=\\&quot;http://www.openstreetmap.org/copyright\\&quot;\\u003eOpenStreetMap\\u003c/a\\u003e contributors \\u0026copy; \\u003ca href=\\&quot;http://cartodb.com/attributions\\&quot;\\u003eCartoDB\\u003c/a\\u003e, CartoDB \\u003ca href =\\&quot;http://cartodb.com/attributions\\&quot;\\u003eattributions\\u003c/a\\u003e&quot;, &quot;detectRetina&quot;: false, &quot;maxNativeZoom&quot;: 18, &quot;maxZoom&quot;: 18, &quot;minZoom&quot;: 0, &quot;noWrap&quot;: false, &quot;opacity&quot;: 1, &quot;subdomains&quot;: &quot;abc&quot;, &quot;tms&quot;: false}\n",
              "            ).addTo(map_816493cf64da605fa6c9b168fd6fa332);\n",
              "        \n",
              "    \n",
              "            var tile_layer_c2c5f93b8362de51d21f9ec02eff3013 = L.tileLayer(\n",
              "                &quot;https://earthengine.googleapis.com/v1alpha/projects/earthengine-legacy/maps/c2342ff17ef2868b521c56b0db3aaff9-ef795a33ee9ffff75331307ef1b39126/tiles/{z}/{x}/{y}&quot;,\n",
              "                {&quot;attribution&quot;: &quot;Map Data \\u0026copy; \\u003ca href=\\&quot;https://earthengine.google.com/\\&quot;\\u003eGoogle Earth Engine\\u003c/a\\u003e&quot;, &quot;detectRetina&quot;: false, &quot;maxNativeZoom&quot;: 18, &quot;maxZoom&quot;: 18, &quot;minZoom&quot;: 0, &quot;noWrap&quot;: false, &quot;opacity&quot;: 1, &quot;subdomains&quot;: &quot;abc&quot;, &quot;tms&quot;: false}\n",
              "            ).addTo(map_816493cf64da605fa6c9b168fd6fa332);\n",
              "        \n",
              "&lt;/script&gt;\n",
              "&lt;/html&gt;\" style=\"position:absolute;width:100%;height:100%;left:0;top:0;border:none !important;\" allowfullscreen webkitallowfullscreen mozallowfullscreen></iframe></div></div>"
            ]
          },
          "metadata": {}
        }
      ]
    },
    {
      "cell_type": "markdown",
      "source": [
        "Finally let's download an image for a specific area of interest using the *ee.Image.getThumbUrl()* function"
      ],
      "metadata": {
        "id": "oEXAto-VU_EQ"
      }
    },
    {
      "cell_type": "code",
      "source": [
        "# Import the Image function from the IPython.display module.\n",
        "from IPython.display import Image\n",
        "\n",
        "# check the https://boundingbox.klokantech.com/ to get the area of analysis\n",
        "region = ee.Geometry.Rectangle([5.9132,46.0068,7.2535,46.898])\n",
        "layer = ee.Image('USGS/SRTMGL1_003').select(\"elevation\")\n",
        "vis_params = {\n",
        "  'min': 1,\n",
        "  'max': 2000,\n",
        "  'palette': ['white', 'black'],\n",
        "  'res': 300}\n",
        "\n",
        "# Display a thumbnail of global elevation.\n",
        "url = layer.getThumbURL({'min': vis_params[\"min\"], \n",
        "                         'max': vis_params[\"max\"], \n",
        "                         'dimensions': vis_params[\"res\"],\n",
        "                         'region':region, \n",
        "                         'crs': 'EPSG:3857',\n",
        "                         'palette': vis_params[\"palette\"]})\n",
        "url"
      ],
      "metadata": {
        "colab": {
          "base_uri": "https://localhost:8080/",
          "height": 36
        },
        "id": "LcJw_6FaUvi9",
        "outputId": "0237a655-c84e-4140-ac39-fdf116e23f4d"
      },
      "execution_count": 126,
      "outputs": [
        {
          "output_type": "execute_result",
          "data": {
            "text/plain": [
              "'https://earthengine.googleapis.com/v1alpha/projects/earthengine-legacy/thumbnails/4bdc0103657a5b9f9a03f370508eaf53-fb45dd9e3c7cb1eeb91abb71bd76e9de:getPixels'"
            ],
            "application/vnd.google.colaboratory.intrinsic+json": {
              "type": "string"
            }
          },
          "metadata": {},
          "execution_count": 126
        }
      ]
    },
    {
      "cell_type": "code",
      "source": [
        "Image(url=url)"
      ],
      "metadata": {
        "colab": {
          "base_uri": "https://localhost:8080/",
          "height": 312
        },
        "id": "dx9tnC4onnQs",
        "outputId": "69e8f9a6-010d-4b3b-84be-6c4964e011fe"
      },
      "execution_count": 128,
      "outputs": [
        {
          "output_type": "execute_result",
          "data": {
            "text/html": [
              "<img src=\"https://earthengine.googleapis.com/v1alpha/projects/earthengine-legacy/thumbnails/4bdc0103657a5b9f9a03f370508eaf53-fb45dd9e3c7cb1eeb91abb71bd76e9de:getPixels\"/>"
            ],
            "text/plain": [
              "<IPython.core.display.Image object>"
            ]
          },
          "metadata": {},
          "execution_count": 128
        }
      ]
    },
    {
      "cell_type": "markdown",
      "source": [
        "## Batch download\n"
      ],
      "metadata": {
        "id": "Vd1FHYpcp3ri"
      }
    },
    {
      "cell_type": "code",
      "source": [
        "from google.colab import drive\n",
        "drive.mount('/content/gdrive')"
      ],
      "metadata": {
        "colab": {
          "base_uri": "https://localhost:8080/"
        },
        "id": "1ELQd7OLJhIC",
        "outputId": "60d0338a-5f76-4514-ffc2-987195ac8e0d"
      },
      "execution_count": 23,
      "outputs": [
        {
          "output_type": "stream",
          "name": "stdout",
          "text": [
            "Mounted at /content/gdrive\n"
          ]
        }
      ]
    },
    {
      "cell_type": "markdown",
      "source": [
        "### Define a harvesting function\n",
        "In order to download images from multiple locations we create a function that loops through an array of locations and stores in a GDrive folder the outputs from an ee.Image layer.\n",
        "\n",
        "More precisely, the *download_img()* function takes as inputs:\n",
        "\n",
        "\n",
        "*   the **image** layer description alongside its specific **band**\n",
        "*   the geographical bounding box (**bbox**) and the resolution (**res**) in pixel of the final output\n",
        "*   the color **palette** to apply and the min & max **bounds** to stretch the colors\n",
        "*   finally the output subfolder (**sub_dir**) to store the images"
      ],
      "metadata": {
        "id": "xCp7ZqA0S0eC"
      }
    },
    {
      "cell_type": "code",
      "execution_count": 99,
      "metadata": {
        "id": "AmhW3TtZS60i"
      },
      "outputs": [],
      "source": [
        "# Select the output folder\n",
        "def download_img(image, band, bbox, vis_param, sub_dir) :\n",
        "\n",
        "    # General settings \n",
        "    file_type = \"jpg\"    \n",
        "    out_dir = \"/content/gdrive/MyDrive/GEE/\" # the outputs will be stored in out_dir/sub_dir\n",
        "\n",
        "    # Prepare the folder to export the images\n",
        "    try:\n",
        "        os.mkdir(os.path.join(out_dir))\n",
        "        print(\"main_dir created\")\n",
        "    except:\n",
        "        print(\"main_dir already existing\")\n",
        "    try:\n",
        "        os.mkdir(os.path.join(out_dir,sub_dir))\n",
        "        print(\"sub_dir created\")\n",
        "    except:\n",
        "        print(\"sub_dir already existing\")\n",
        "\n",
        "    # Launch the loop\n",
        "    for i in tqdm(range(0, bbox.shape[0])):\n",
        "\n",
        "        region = ee.Geometry.Rectangle(bbox.iloc[i]['minx'],bbox.iloc[i]['miny'],bbox.iloc[i]['maxx'],bbox.iloc[i]['maxy'])\n",
        "        url = image.getThumbURL({ \n",
        "                            'bands': band,\n",
        "                            'min': vis_param[\"min\"],\n",
        "                            'max': vis_param[\"max\"],\n",
        "                            'palette': vis_param[\"palette\"],\n",
        "                            'dimensions': vis_param[\"res\"],\n",
        "                            'crs': 'EPSG:3857',\n",
        "                            'region': region,\n",
        "                            'format': file_type\n",
        "                        })\n",
        "                        \n",
        "        file_name = (\"image_\" + str(bbox.iloc[i]['id']) + \".\"+file_type)\n",
        "        out_path = os.path.join(out_dir, sub_dir, file_name)\n",
        "\n",
        "        # Save the image for the generated url in the specified path\n",
        "        response = requests.get(url)\n",
        "        open(out_path, \"wb\").write(response.content)"
      ]
    },
    {
      "cell_type": "markdown",
      "source": [
        "### Import locations\n",
        "\n",
        "we read a .csv with location data with pandas that after we convert into georeferenced geometries in order to calculate bounding boxes (with a radius in m) and download pictures."
      ],
      "metadata": {
        "id": "HAU7G-rZEe-0"
      }
    },
    {
      "cell_type": "code",
      "source": [
        "url = \"https://raw.githubusercontent.com/fleshgordo/sensinglikeamultiplicity/main/day2/data/blurred_sites.csv\"\n",
        "df = pd.read_csv(url, delimiter=\",\", header=0)"
      ],
      "metadata": {
        "id": "m98tizT7CItk"
      },
      "execution_count": 25,
      "outputs": []
    },
    {
      "cell_type": "markdown",
      "source": [
        "we convert the pandas dataframe into a collection of point geometries with the geopandas library and using the values stored in the \"lon\" and \"lat\" columns. The coordinates are in WSG84 (Lon Lat) therefore we use as crs the default settings (*EPSG:4326*)"
      ],
      "metadata": {
        "id": "dGCAtFfcE1-_"
      }
    },
    {
      "cell_type": "code",
      "source": [
        "gdf = gpd.GeoDataFrame(df, geometry = gpd.points_from_xy(df['lon'], df['lat']), crs = 'EPSG:4326')"
      ],
      "metadata": {
        "id": "BdpEznAMFEXf"
      },
      "execution_count": 26,
      "outputs": []
    },
    {
      "cell_type": "markdown",
      "source": [
        "As the locations are **point-based data**, we create geographical regions of interest to later extract images using a radius in meters. This is done by first reprojecting the geometries in a meter-united crs (*EPSG:3857*) and then by making a **buffer** to extract the mininum and maximum extensions. Finally we convert the geometries again to *4326* to facilitate the communication with  GEE."
      ],
      "metadata": {
        "id": "fb_bmkGaFTRM"
      }
    },
    {
      "cell_type": "code",
      "execution_count": 27,
      "metadata": {
        "id": "GhOD143rS60j"
      },
      "outputs": [],
      "source": [
        "radius_m = 10000\n",
        "\n",
        "buff = gdf.to_crs('EPSG:3857').buffer(radius_m).to_crs('EPSG:4326')\n",
        "bbox = gdf.join(buff.envelope.bounds)"
      ]
    },
    {
      "cell_type": "markdown",
      "source": [
        "### Run the loop\n"
      ],
      "metadata": {
        "id": "NtbAwK-pI3sI"
      }
    },
    {
      "cell_type": "code",
      "execution_count": 100,
      "metadata": {
        "id": "V7s6yc5PS60l",
        "colab": {
          "base_uri": "https://localhost:8080/"
        },
        "outputId": "0d2bab6f-c496-4764-fe61-ae5e46e414b8"
      },
      "outputs": [
        {
          "output_type": "stream",
          "name": "stdout",
          "text": [
            "main_dir already existing\n",
            "sub_dir already existing\n"
          ]
        },
        {
          "output_type": "stream",
          "name": "stderr",
          "text": [
            "100%|██████████| 98/98 [01:23<00:00,  1.18it/s]\n"
          ]
        }
      ],
      "source": [
        "#  Compute the Built-up\n",
        "image = ee.Image('JRC/GHSL/P2016/BUILT_LDSMT_GLOBE_V1');\n",
        "vis_params = {\n",
        "  'min': 1,\n",
        "  'max': 6,\n",
        "  'palette': ['white', 'black'],\n",
        "  'res': 300}\n",
        "download_img (image, \"built\", bbox,  vis_params, \"built\")"
      ]
    }
  ],
  "metadata": {
    "kernelspec": {
      "display_name": "gee_scikit",
      "language": "python",
      "name": "python3"
    },
    "language_info": {
      "codemirror_mode": {
        "name": "ipython",
        "version": 3
      },
      "file_extension": ".py",
      "mimetype": "text/x-python",
      "name": "python",
      "nbconvert_exporter": "python",
      "pygments_lexer": "ipython3",
      "version": "3.10.6 | packaged by conda-forge | (main, Aug 22 2022, 20:30:19) [MSC v.1929 64 bit (AMD64)]"
    },
    "orig_nbformat": 4,
    "vscode": {
      "interpreter": {
        "hash": "2b88d2c28c9abf06a9e1699f25e9eb42c3bc350ffe1ad826b97701b03e691432"
      }
    },
    "colab": {
      "provenance": [],
      "include_colab_link": true
    }
  },
  "nbformat": 4,
  "nbformat_minor": 0
}